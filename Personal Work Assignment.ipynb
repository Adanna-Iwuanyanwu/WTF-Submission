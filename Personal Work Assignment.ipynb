{
 "cells": [
  {
   "cell_type": "markdown",
   "id": "9db06cfd",
   "metadata": {},
   "source": [
    "## 1) Print all elements of a list using for loop"
   ]
  },
  {
   "cell_type": "code",
   "execution_count": 1,
   "id": "36f93dc7",
   "metadata": {},
   "outputs": [
    {
     "name": "stdout",
     "output_type": "stream",
     "text": [
      "Orange\n",
      "Grape\n",
      "Mango\n",
      "Apple\n"
     ]
    }
   ],
   "source": [
    "Fruits = ['Orange', 'Grape', 'Mango', 'Apple']\n",
    "for f in Fruits:\n",
    "    print(f)"
   ]
  },
  {
   "cell_type": "markdown",
   "id": "c12a8dd2",
   "metadata": {},
   "source": [
    "## 2) A company decided to give bonus of 5% to employee if his/her year of service is more than 5 years. Ask user for their salary and year of service and print the net bonus amount."
   ]
  },
  {
   "cell_type": "code",
   "execution_count": 20,
   "id": "5a36587f",
   "metadata": {},
   "outputs": [
    {
     "name": "stdout",
     "output_type": "stream",
     "text": [
      "Enter Salary:100000\n",
      "Enter YOS:8\n",
      "5000.0\n"
     ]
    }
   ],
   "source": [
    "#YOS means year of service\n",
    "salary = int(input(\"Enter Salary:\"))\n",
    "YOS = int(input(\"Enter YOS:\"))\n",
    "\n",
    "if YOS > 5:\n",
    "    print(salary * 5/100)\n",
    "else:\n",
    "    print(\"No Bonus\")"
   ]
  },
  {
   "cell_type": "markdown",
   "id": "3b686a25",
   "metadata": {},
   "source": [
    "## 3) Take input of age of 3 people by user and determine oldest and youngest among them."
   ]
  },
  {
   "cell_type": "code",
   "execution_count": 22,
   "id": "83177f93",
   "metadata": {},
   "outputs": [
    {
     "name": "stdout",
     "output_type": "stream",
     "text": [
      "Enter age:15\n",
      "Enter age:30\n",
      "Enter age:45\n",
      "oldest is the third_age\n",
      "youngest is the first_age\n"
     ]
    }
   ],
   "source": [
    "first_age = int(input(\"Enter age:\"))\n",
    "second_age = int(input(\"Enter age:\"))\n",
    "third_age = int(input(\"Enter age:\"))\n",
    "\n",
    "if first_age >= second_age and first_age >= third_age:\n",
    "    print('oldest is the first_age')    \n",
    "elif second_age >= first_age and second_age >= third_age:\n",
    "    print('oldest is the second_age')    \n",
    "elif third_age >= first_age and third_age >= second_age:\n",
    "    print('oldest is the third_age')\n",
    "    \n",
    "\n",
    "if first_age <= second_age and first_age <= third_age:\n",
    "    print('youngest is the first_age')    \n",
    "elif second_age <= first_age and second_age <= third_age:\n",
    "    print('youngest is the second_age')    \n",
    "elif third_age <= first_age and third_age <= second_age:\n",
    "    print('youngest is the third_age')\n",
    "    \n",
    "else:\n",
    "    print('All are equal')\n",
    "\n"
   ]
  },
  {
   "cell_type": "markdown",
   "id": "65949add",
   "metadata": {},
   "source": [
    "## 4) A school has following rules for grading system: "
   ]
  },
  {
   "cell_type": "code",
   "execution_count": null,
   "id": "d6e79654",
   "metadata": {},
   "outputs": [],
   "source": [
    "a. Below 25 - F \n",
    "b. 25 to 45 - E \n",
    "c. 45 to 50 - D \n",
    "d. 50 to 60 - C \n",
    "e. 60 to 80 - B \n",
    "f. Above 80 - A"
   ]
  },
  {
   "cell_type": "markdown",
   "id": "8ee4e7b7",
   "metadata": {},
   "source": [
    "## 5) Ask user to enter marks and print the corresponding grade."
   ]
  },
  {
   "cell_type": "code",
   "execution_count": 19,
   "id": "68ed4068",
   "metadata": {},
   "outputs": [
    {
     "name": "stdout",
     "output_type": "stream",
     "text": [
      "Enter mark:75\n",
      "B\n"
     ]
    }
   ],
   "source": [
    "mark = int(input('Enter mark:'))\n",
    "\n",
    "if (mark < 25):\n",
    "    print('F')\n",
    "elif mark >= 25 and mark < 45:\n",
    "    print('E')\n",
    "elif mark >= 45 and mark < 50:\n",
    "    print('D')\n",
    "elif mark >= 50 and mark < 60:\n",
    "    print('C')\n",
    "elif mark >= 60 and mark < 80:\n",
    "    print('B')\n",
    "else:\n",
    "    print('A')"
   ]
  },
  {
   "cell_type": "markdown",
   "id": "a7653392",
   "metadata": {},
   "source": [
    "## 6) Write a Python script to merge two Python dictionaries"
   ]
  },
  {
   "cell_type": "code",
   "execution_count": 23,
   "id": "c04c52d0",
   "metadata": {},
   "outputs": [
    {
     "name": "stdout",
     "output_type": "stream",
     "text": [
      "{'Ada': 28, 'Efe': 52, 'Chisom': 23, 'Ken': 29}\n"
     ]
    }
   ],
   "source": [
    "first_group = {'Ada': 28, 'Efe': 52}\n",
    "second_group ={'Chisom': 23, 'Ken': 29}\n",
    "general = first_group.copy()\n",
    "general.update(second_group)\n",
    "print(general)"
   ]
  },
  {
   "cell_type": "markdown",
   "id": "c04ba0e8",
   "metadata": {},
   "source": [
    "## 7) Write a python program to get the largest number from a list"
   ]
  },
  {
   "cell_type": "code",
   "execution_count": 51,
   "id": "dc6c0778",
   "metadata": {},
   "outputs": [
    {
     "name": "stdout",
     "output_type": "stream",
     "text": [
      "8\n"
     ]
    }
   ],
   "source": [
    "def max_num ( num ):\n",
    "    max = num [0]\n",
    "    for n in num:\n",
    "        if n > max:\n",
    "            max = n\n",
    "    return max\n",
    "print(max_num ([2, 4, -10, 8]))"
   ]
  },
  {
   "cell_type": "markdown",
   "id": "3b7e6361",
   "metadata": {},
   "source": [
    "## 8) Write a python program to remove a key from a dictionary"
   ]
  },
  {
   "cell_type": "code",
   "execution_count": 24,
   "id": "4fffb0ed",
   "metadata": {},
   "outputs": [
    {
     "name": "stdout",
     "output_type": "stream",
     "text": [
      "{'Oranges': 2, 'Books': 4, 'Phones': 8}\n"
     ]
    }
   ],
   "source": [
    "Items = {'Oranges': 2, 'Books': 4, 'Shoes': 6, 'Phones': 8}\n",
    "if 'Shoes' in Items:\n",
    "    del Items['Shoes']\n",
    "print(Items)"
   ]
  },
  {
   "cell_type": "code",
   "execution_count": null,
   "id": "1d32c160",
   "metadata": {},
   "outputs": [],
   "source": []
  }
 ],
 "metadata": {
  "kernelspec": {
   "display_name": "Python 3 (ipykernel)",
   "language": "python",
   "name": "python3"
  },
  "language_info": {
   "codemirror_mode": {
    "name": "ipython",
    "version": 3
   },
   "file_extension": ".py",
   "mimetype": "text/x-python",
   "name": "python",
   "nbconvert_exporter": "python",
   "pygments_lexer": "ipython3",
   "version": "3.9.12"
  }
 },
 "nbformat": 4,
 "nbformat_minor": 5
}
