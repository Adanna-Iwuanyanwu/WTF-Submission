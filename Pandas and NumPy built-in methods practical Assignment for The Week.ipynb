{
 "cells": [
  {
   "cell_type": "markdown",
   "id": "a124638c",
   "metadata": {},
   "source": [
    "## Assignment research and write down 20 in built methods on pandas and 20 on numpy with examples each."
   ]
  },
  {
   "cell_type": "markdown",
   "id": "e95fa991",
   "metadata": {},
   "source": [
    "## A. 20 Pandas in-buit methods with examples"
   ]
  },
  {
   "cell_type": "code",
   "execution_count": 34,
   "id": "0512a017",
   "metadata": {},
   "outputs": [],
   "source": [
    "#first i have to import pandas and numpy\n",
    "\n",
    "import pandas as pd\n",
    "import numpy as np"
   ]
  },
  {
   "cell_type": "code",
   "execution_count": 35,
   "id": "6a2f97e4",
   "metadata": {},
   "outputs": [
    {
     "name": "stdout",
     "output_type": "stream",
     "text": [
      "1.4.2\n"
     ]
    }
   ],
   "source": [
    "print(pd.__version__)"
   ]
  },
  {
   "cell_type": "code",
   "execution_count": 36,
   "id": "9c70e5c5",
   "metadata": {},
   "outputs": [
    {
     "name": "stdout",
     "output_type": "stream",
     "text": [
      "1.21.5\n"
     ]
    }
   ],
   "source": [
    "print(np.__version__)"
   ]
  },
  {
   "cell_type": "markdown",
   "id": "cabc29a5",
   "metadata": {},
   "source": [
    "## 1) read_csv() method"
   ]
  },
  {
   "cell_type": "code",
   "execution_count": 37,
   "id": "40923572",
   "metadata": {},
   "outputs": [
    {
     "name": "stdout",
     "output_type": "stream",
     "text": [
      "    S/N  COURSE UNIT COURSE CODE                                COURSE TITLE   SCORE GRADE  GRADE VALUE  GPA\n",
      "0     1            3   SPH 708.1                               Human Ecology  72.500     A            5   15\n",
      "1     2            2   SPH 703.1                      Health Laws and Ethics  78.760     A            5   10\n",
      "2     3            2   SPH 701.1       History of Medicine and Public Health  70.850     A            5   10\n",
      "3     4            2   SPH 734.2                        ICT In Public Health  79.800     A            5   10\n",
      "4     5            4   SPH 723.1               Introduction to Biostatistics  70.050     A            5   20\n",
      "5     6            4   SPH 725.1  Introduction to Principles of Epidemiology  82.600     A            5   20\n",
      "6     7            4   SPH 712.1                       Public Health Methods  79.800     A            5   20\n",
      "7     8            3   SPH 726.2                       Healthcare In Nigeria  85.480     A            5   15\n",
      "8     9            2   SPH 723.2                  Fundamentals of Demography  65.800     B            4    8\n",
      "9    10            2        SPH                                   Field Trip  73.333     A            5   10\n",
      "10   11            2   SPH 742.2                                     Seminar  52.600     C            3    6\n"
     ]
    }
   ],
   "source": [
    "#read_csv file\n",
    "\n",
    "file = r\"C:\\Users\\iwuan\\OneDrive\\Desktop\\practice.csv\"\n",
    "df = pd.read_csv(file)\n",
    "print(df.to_string())"
   ]
  },
  {
   "cell_type": "markdown",
   "id": "f82f4624",
   "metadata": {},
   "source": [
    "## 2) head() method"
   ]
  },
  {
   "cell_type": "code",
   "execution_count": 38,
   "id": "8c6dcf5a",
   "metadata": {},
   "outputs": [
    {
     "data": {
      "text/html": [
       "<div>\n",
       "<style scoped>\n",
       "    .dataframe tbody tr th:only-of-type {\n",
       "        vertical-align: middle;\n",
       "    }\n",
       "\n",
       "    .dataframe tbody tr th {\n",
       "        vertical-align: top;\n",
       "    }\n",
       "\n",
       "    .dataframe thead th {\n",
       "        text-align: right;\n",
       "    }\n",
       "</style>\n",
       "<table border=\"1\" class=\"dataframe\">\n",
       "  <thead>\n",
       "    <tr style=\"text-align: right;\">\n",
       "      <th></th>\n",
       "      <th>S/N</th>\n",
       "      <th>COURSE UNIT</th>\n",
       "      <th>COURSE CODE</th>\n",
       "      <th>COURSE TITLE</th>\n",
       "      <th>SCORE</th>\n",
       "      <th>GRADE</th>\n",
       "      <th>GRADE VALUE</th>\n",
       "      <th>GPA</th>\n",
       "    </tr>\n",
       "  </thead>\n",
       "  <tbody>\n",
       "    <tr>\n",
       "      <th>0</th>\n",
       "      <td>1</td>\n",
       "      <td>3</td>\n",
       "      <td>SPH 708.1</td>\n",
       "      <td>Human Ecology</td>\n",
       "      <td>72.50</td>\n",
       "      <td>A</td>\n",
       "      <td>5</td>\n",
       "      <td>15</td>\n",
       "    </tr>\n",
       "    <tr>\n",
       "      <th>1</th>\n",
       "      <td>2</td>\n",
       "      <td>2</td>\n",
       "      <td>SPH 703.1</td>\n",
       "      <td>Health Laws and Ethics</td>\n",
       "      <td>78.76</td>\n",
       "      <td>A</td>\n",
       "      <td>5</td>\n",
       "      <td>10</td>\n",
       "    </tr>\n",
       "    <tr>\n",
       "      <th>2</th>\n",
       "      <td>3</td>\n",
       "      <td>2</td>\n",
       "      <td>SPH 701.1</td>\n",
       "      <td>History of Medicine and Public Health</td>\n",
       "      <td>70.85</td>\n",
       "      <td>A</td>\n",
       "      <td>5</td>\n",
       "      <td>10</td>\n",
       "    </tr>\n",
       "    <tr>\n",
       "      <th>3</th>\n",
       "      <td>4</td>\n",
       "      <td>2</td>\n",
       "      <td>SPH 734.2</td>\n",
       "      <td>ICT In Public Health</td>\n",
       "      <td>79.80</td>\n",
       "      <td>A</td>\n",
       "      <td>5</td>\n",
       "      <td>10</td>\n",
       "    </tr>\n",
       "    <tr>\n",
       "      <th>4</th>\n",
       "      <td>5</td>\n",
       "      <td>4</td>\n",
       "      <td>SPH 723.1</td>\n",
       "      <td>Introduction to Biostatistics</td>\n",
       "      <td>70.05</td>\n",
       "      <td>A</td>\n",
       "      <td>5</td>\n",
       "      <td>20</td>\n",
       "    </tr>\n",
       "    <tr>\n",
       "      <th>5</th>\n",
       "      <td>6</td>\n",
       "      <td>4</td>\n",
       "      <td>SPH 725.1</td>\n",
       "      <td>Introduction to Principles of Epidemiology</td>\n",
       "      <td>82.60</td>\n",
       "      <td>A</td>\n",
       "      <td>5</td>\n",
       "      <td>20</td>\n",
       "    </tr>\n",
       "  </tbody>\n",
       "</table>\n",
       "</div>"
      ],
      "text/plain": [
       "   S/N  COURSE UNIT COURSE CODE                                COURSE TITLE  \\\n",
       "0    1            3   SPH 708.1                               Human Ecology   \n",
       "1    2            2   SPH 703.1                      Health Laws and Ethics   \n",
       "2    3            2   SPH 701.1       History of Medicine and Public Health   \n",
       "3    4            2   SPH 734.2                        ICT In Public Health   \n",
       "4    5            4   SPH 723.1               Introduction to Biostatistics   \n",
       "5    6            4   SPH 725.1  Introduction to Principles of Epidemiology   \n",
       "\n",
       "   SCORE GRADE  GRADE VALUE  GPA  \n",
       "0  72.50     A            5   15  \n",
       "1  78.76     A            5   10  \n",
       "2  70.85     A            5   10  \n",
       "3  79.80     A            5   10  \n",
       "4  70.05     A            5   20  \n",
       "5  82.60     A            5   20  "
      ]
     },
     "execution_count": 38,
     "metadata": {},
     "output_type": "execute_result"
    }
   ],
   "source": [
    "#To view the first six rows of the dataset\n",
    "\n",
    "df.head(6)"
   ]
  },
  {
   "cell_type": "markdown",
   "id": "6bf969b2",
   "metadata": {},
   "source": [
    "## 3) type() method"
   ]
  },
  {
   "cell_type": "code",
   "execution_count": 39,
   "id": "6606e471",
   "metadata": {},
   "outputs": [
    {
     "data": {
      "text/plain": [
       "pandas.core.frame.DataFrame"
      ]
     },
     "execution_count": 39,
     "metadata": {},
     "output_type": "execute_result"
    }
   ],
   "source": [
    "#To verify the type of object created\n",
    "\n",
    "type(df)"
   ]
  },
  {
   "cell_type": "markdown",
   "id": "203ac3ce",
   "metadata": {},
   "source": [
    "## 4) dtypes() method"
   ]
  },
  {
   "cell_type": "code",
   "execution_count": 40,
   "id": "5f8b591b",
   "metadata": {},
   "outputs": [
    {
     "data": {
      "text/plain": [
       "S/N               int64\n",
       "COURSE UNIT       int64\n",
       "COURSE CODE      object\n",
       "COURSE TITLE     object\n",
       "SCORE           float64\n",
       "GRADE            object\n",
       "GRADE VALUE       int64\n",
       "GPA               int64\n",
       "dtype: object"
      ]
     },
     "execution_count": 40,
     "metadata": {},
     "output_type": "execute_result"
    }
   ],
   "source": [
    "#To print the data types of each columns\n",
    "\n",
    "df.dtypes"
   ]
  },
  {
   "cell_type": "markdown",
   "id": "bad8d78b",
   "metadata": {},
   "source": [
    "## 5) info() method"
   ]
  },
  {
   "cell_type": "code",
   "execution_count": 41,
   "id": "4762138f",
   "metadata": {},
   "outputs": [
    {
     "name": "stdout",
     "output_type": "stream",
     "text": [
      "<class 'pandas.core.frame.DataFrame'>\n",
      "RangeIndex: 11 entries, 0 to 10\n",
      "Data columns (total 8 columns):\n",
      " #   Column        Non-Null Count  Dtype  \n",
      "---  ------        --------------  -----  \n",
      " 0   S/N           11 non-null     int64  \n",
      " 1   COURSE UNIT   11 non-null     int64  \n",
      " 2   COURSE CODE   11 non-null     object \n",
      " 3   COURSE TITLE  11 non-null     object \n",
      " 4   SCORE         11 non-null     float64\n",
      " 5   GRADE         11 non-null     object \n",
      " 6   GRADE VALUE   11 non-null     int64  \n",
      " 7   GPA           11 non-null     int64  \n",
      "dtypes: float64(1), int64(4), object(3)\n",
      "memory usage: 832.0+ bytes\n"
     ]
    }
   ],
   "source": [
    "# To print missing value stats and datatypes\n",
    "\n",
    "df.info()"
   ]
  },
  {
   "cell_type": "markdown",
   "id": "1f6db5f5",
   "metadata": {},
   "source": [
    "## 6) describe() method"
   ]
  },
  {
   "cell_type": "code",
   "execution_count": 42,
   "id": "b4a0dbc5",
   "metadata": {},
   "outputs": [
    {
     "data": {
      "text/html": [
       "<div>\n",
       "<style scoped>\n",
       "    .dataframe tbody tr th:only-of-type {\n",
       "        vertical-align: middle;\n",
       "    }\n",
       "\n",
       "    .dataframe tbody tr th {\n",
       "        vertical-align: top;\n",
       "    }\n",
       "\n",
       "    .dataframe thead th {\n",
       "        text-align: right;\n",
       "    }\n",
       "</style>\n",
       "<table border=\"1\" class=\"dataframe\">\n",
       "  <thead>\n",
       "    <tr style=\"text-align: right;\">\n",
       "      <th></th>\n",
       "      <th>S/N</th>\n",
       "      <th>COURSE UNIT</th>\n",
       "      <th>SCORE</th>\n",
       "      <th>GRADE VALUE</th>\n",
       "      <th>GPA</th>\n",
       "    </tr>\n",
       "  </thead>\n",
       "  <tbody>\n",
       "    <tr>\n",
       "      <th>count</th>\n",
       "      <td>11.000000</td>\n",
       "      <td>11.000000</td>\n",
       "      <td>11.000000</td>\n",
       "      <td>11.000000</td>\n",
       "      <td>11.000000</td>\n",
       "    </tr>\n",
       "    <tr>\n",
       "      <th>mean</th>\n",
       "      <td>6.000000</td>\n",
       "      <td>2.727273</td>\n",
       "      <td>73.779364</td>\n",
       "      <td>4.727273</td>\n",
       "      <td>13.090909</td>\n",
       "    </tr>\n",
       "    <tr>\n",
       "      <th>std</th>\n",
       "      <td>3.316625</td>\n",
       "      <td>0.904534</td>\n",
       "      <td>9.211799</td>\n",
       "      <td>0.646670</td>\n",
       "      <td>5.146932</td>\n",
       "    </tr>\n",
       "    <tr>\n",
       "      <th>min</th>\n",
       "      <td>1.000000</td>\n",
       "      <td>2.000000</td>\n",
       "      <td>52.600000</td>\n",
       "      <td>3.000000</td>\n",
       "      <td>6.000000</td>\n",
       "    </tr>\n",
       "    <tr>\n",
       "      <th>25%</th>\n",
       "      <td>3.500000</td>\n",
       "      <td>2.000000</td>\n",
       "      <td>70.450000</td>\n",
       "      <td>5.000000</td>\n",
       "      <td>10.000000</td>\n",
       "    </tr>\n",
       "    <tr>\n",
       "      <th>50%</th>\n",
       "      <td>6.000000</td>\n",
       "      <td>2.000000</td>\n",
       "      <td>73.333000</td>\n",
       "      <td>5.000000</td>\n",
       "      <td>10.000000</td>\n",
       "    </tr>\n",
       "    <tr>\n",
       "      <th>75%</th>\n",
       "      <td>8.500000</td>\n",
       "      <td>3.500000</td>\n",
       "      <td>79.800000</td>\n",
       "      <td>5.000000</td>\n",
       "      <td>17.500000</td>\n",
       "    </tr>\n",
       "    <tr>\n",
       "      <th>max</th>\n",
       "      <td>11.000000</td>\n",
       "      <td>4.000000</td>\n",
       "      <td>85.480000</td>\n",
       "      <td>5.000000</td>\n",
       "      <td>20.000000</td>\n",
       "    </tr>\n",
       "  </tbody>\n",
       "</table>\n",
       "</div>"
      ],
      "text/plain": [
       "             S/N  COURSE UNIT      SCORE  GRADE VALUE        GPA\n",
       "count  11.000000    11.000000  11.000000    11.000000  11.000000\n",
       "mean    6.000000     2.727273  73.779364     4.727273  13.090909\n",
       "std     3.316625     0.904534   9.211799     0.646670   5.146932\n",
       "min     1.000000     2.000000  52.600000     3.000000   6.000000\n",
       "25%     3.500000     2.000000  70.450000     5.000000  10.000000\n",
       "50%     6.000000     2.000000  73.333000     5.000000  10.000000\n",
       "75%     8.500000     3.500000  79.800000     5.000000  17.500000\n",
       "max    11.000000     4.000000  85.480000     5.000000  20.000000"
      ]
     },
     "execution_count": 42,
     "metadata": {},
     "output_type": "execute_result"
    }
   ],
   "source": [
    "#This prints standard statistics (mean, standard deviation,count, min, max) of every numeric value column\n",
    "\n",
    "df.describe()"
   ]
  },
  {
   "cell_type": "markdown",
   "id": "1e146428",
   "metadata": {},
   "source": [
    "## 7) iloc[] method"
   ]
  },
  {
   "cell_type": "code",
   "execution_count": 43,
   "id": "63a03c6a",
   "metadata": {},
   "outputs": [
    {
     "data": {
      "text/html": [
       "<div>\n",
       "<style scoped>\n",
       "    .dataframe tbody tr th:only-of-type {\n",
       "        vertical-align: middle;\n",
       "    }\n",
       "\n",
       "    .dataframe tbody tr th {\n",
       "        vertical-align: top;\n",
       "    }\n",
       "\n",
       "    .dataframe thead th {\n",
       "        text-align: right;\n",
       "    }\n",
       "</style>\n",
       "<table border=\"1\" class=\"dataframe\">\n",
       "  <thead>\n",
       "    <tr style=\"text-align: right;\">\n",
       "      <th></th>\n",
       "      <th>COURSE TITLE</th>\n",
       "      <th>SCORE</th>\n",
       "      <th>GRADE</th>\n",
       "      <th>GRADE VALUE</th>\n",
       "      <th>GPA</th>\n",
       "    </tr>\n",
       "  </thead>\n",
       "  <tbody>\n",
       "    <tr>\n",
       "      <th>0</th>\n",
       "      <td>Human Ecology</td>\n",
       "      <td>72.50</td>\n",
       "      <td>A</td>\n",
       "      <td>5</td>\n",
       "      <td>15</td>\n",
       "    </tr>\n",
       "    <tr>\n",
       "      <th>1</th>\n",
       "      <td>Health Laws and Ethics</td>\n",
       "      <td>78.76</td>\n",
       "      <td>A</td>\n",
       "      <td>5</td>\n",
       "      <td>10</td>\n",
       "    </tr>\n",
       "    <tr>\n",
       "      <th>2</th>\n",
       "      <td>History of Medicine and Public Health</td>\n",
       "      <td>70.85</td>\n",
       "      <td>A</td>\n",
       "      <td>5</td>\n",
       "      <td>10</td>\n",
       "    </tr>\n",
       "    <tr>\n",
       "      <th>3</th>\n",
       "      <td>ICT In Public Health</td>\n",
       "      <td>79.80</td>\n",
       "      <td>A</td>\n",
       "      <td>5</td>\n",
       "      <td>10</td>\n",
       "    </tr>\n",
       "    <tr>\n",
       "      <th>4</th>\n",
       "      <td>Introduction to Biostatistics</td>\n",
       "      <td>70.05</td>\n",
       "      <td>A</td>\n",
       "      <td>5</td>\n",
       "      <td>20</td>\n",
       "    </tr>\n",
       "  </tbody>\n",
       "</table>\n",
       "</div>"
      ],
      "text/plain": [
       "                            COURSE TITLE  SCORE GRADE  GRADE VALUE  GPA\n",
       "0                          Human Ecology  72.50     A            5   15\n",
       "1                 Health Laws and Ethics  78.76     A            5   10\n",
       "2  History of Medicine and Public Health  70.85     A            5   10\n",
       "3                   ICT In Public Health  79.80     A            5   10\n",
       "4          Introduction to Biostatistics  70.05     A            5   20"
      ]
     },
     "execution_count": 43,
     "metadata": {},
     "output_type": "execute_result"
    }
   ],
   "source": [
    "#This selects data by position (that is using the index number)\n",
    "#I selected the first 5 rows of the data and index 3 to index 8 columns.\n",
    "\n",
    "df.iloc[:5, 3:8]"
   ]
  },
  {
   "cell_type": "markdown",
   "id": "62f76cf0",
   "metadata": {},
   "source": [
    "## 8) columns() method"
   ]
  },
  {
   "cell_type": "code",
   "execution_count": 44,
   "id": "48df8e12",
   "metadata": {},
   "outputs": [
    {
     "data": {
      "text/plain": [
       "Index(['S/N', 'COURSE UNIT', 'COURSE CODE', 'COURSE TITLE', 'SCORE', 'GRADE',\n",
       "       'GRADE VALUE', 'GPA'],\n",
       "      dtype='object')"
      ]
     },
     "execution_count": 44,
     "metadata": {},
     "output_type": "execute_result"
    }
   ],
   "source": [
    "#To view all the columns of a dataset\n",
    "\n",
    "df.columns"
   ]
  },
  {
   "cell_type": "markdown",
   "id": "2f90fa9d",
   "metadata": {},
   "source": [
    "## 9) drop() method"
   ]
  },
  {
   "cell_type": "code",
   "execution_count": 45,
   "id": "20a9f084",
   "metadata": {},
   "outputs": [],
   "source": [
    "#To drop unwanted columns in the dataset\n",
    "\n",
    "df = df.drop(columns = ['GRADE VALUE'])"
   ]
  },
  {
   "cell_type": "code",
   "execution_count": 50,
   "id": "fcaeef04",
   "metadata": {},
   "outputs": [
    {
     "data": {
      "text/html": [
       "<div>\n",
       "<style scoped>\n",
       "    .dataframe tbody tr th:only-of-type {\n",
       "        vertical-align: middle;\n",
       "    }\n",
       "\n",
       "    .dataframe tbody tr th {\n",
       "        vertical-align: top;\n",
       "    }\n",
       "\n",
       "    .dataframe thead th {\n",
       "        text-align: right;\n",
       "    }\n",
       "</style>\n",
       "<table border=\"1\" class=\"dataframe\">\n",
       "  <thead>\n",
       "    <tr style=\"text-align: right;\">\n",
       "      <th></th>\n",
       "      <th>S/N</th>\n",
       "      <th>COURSE UNIT</th>\n",
       "      <th>COURSE CODE</th>\n",
       "      <th>COURSE TITLE</th>\n",
       "      <th>SCORE</th>\n",
       "      <th>GRADE</th>\n",
       "      <th>GPA</th>\n",
       "    </tr>\n",
       "  </thead>\n",
       "  <tbody>\n",
       "    <tr>\n",
       "      <th>0</th>\n",
       "      <td>1</td>\n",
       "      <td>3</td>\n",
       "      <td>SPH 708.1</td>\n",
       "      <td>Human Ecology</td>\n",
       "      <td>72.500</td>\n",
       "      <td>A</td>\n",
       "      <td>15</td>\n",
       "    </tr>\n",
       "    <tr>\n",
       "      <th>1</th>\n",
       "      <td>2</td>\n",
       "      <td>2</td>\n",
       "      <td>SPH 703.1</td>\n",
       "      <td>Health Laws and Ethics</td>\n",
       "      <td>78.760</td>\n",
       "      <td>A</td>\n",
       "      <td>10</td>\n",
       "    </tr>\n",
       "    <tr>\n",
       "      <th>2</th>\n",
       "      <td>3</td>\n",
       "      <td>2</td>\n",
       "      <td>SPH 701.1</td>\n",
       "      <td>History of Medicine and Public Health</td>\n",
       "      <td>70.850</td>\n",
       "      <td>A</td>\n",
       "      <td>10</td>\n",
       "    </tr>\n",
       "    <tr>\n",
       "      <th>3</th>\n",
       "      <td>4</td>\n",
       "      <td>2</td>\n",
       "      <td>SPH 734.2</td>\n",
       "      <td>ICT In Public Health</td>\n",
       "      <td>79.800</td>\n",
       "      <td>A</td>\n",
       "      <td>10</td>\n",
       "    </tr>\n",
       "    <tr>\n",
       "      <th>4</th>\n",
       "      <td>5</td>\n",
       "      <td>4</td>\n",
       "      <td>SPH 723.1</td>\n",
       "      <td>Introduction to Biostatistics</td>\n",
       "      <td>70.050</td>\n",
       "      <td>A</td>\n",
       "      <td>20</td>\n",
       "    </tr>\n",
       "    <tr>\n",
       "      <th>5</th>\n",
       "      <td>6</td>\n",
       "      <td>4</td>\n",
       "      <td>SPH 725.1</td>\n",
       "      <td>Introduction to Principles of Epidemiology</td>\n",
       "      <td>82.600</td>\n",
       "      <td>A</td>\n",
       "      <td>20</td>\n",
       "    </tr>\n",
       "    <tr>\n",
       "      <th>6</th>\n",
       "      <td>7</td>\n",
       "      <td>4</td>\n",
       "      <td>SPH 712.1</td>\n",
       "      <td>Public Health Methods</td>\n",
       "      <td>79.800</td>\n",
       "      <td>A</td>\n",
       "      <td>20</td>\n",
       "    </tr>\n",
       "    <tr>\n",
       "      <th>7</th>\n",
       "      <td>8</td>\n",
       "      <td>3</td>\n",
       "      <td>SPH 726.2</td>\n",
       "      <td>Healthcare In Nigeria</td>\n",
       "      <td>85.480</td>\n",
       "      <td>A</td>\n",
       "      <td>15</td>\n",
       "    </tr>\n",
       "    <tr>\n",
       "      <th>8</th>\n",
       "      <td>9</td>\n",
       "      <td>2</td>\n",
       "      <td>SPH 723.2</td>\n",
       "      <td>Fundamentals of Demography</td>\n",
       "      <td>65.800</td>\n",
       "      <td>B</td>\n",
       "      <td>8</td>\n",
       "    </tr>\n",
       "    <tr>\n",
       "      <th>9</th>\n",
       "      <td>10</td>\n",
       "      <td>2</td>\n",
       "      <td>SPH</td>\n",
       "      <td>Field Trip</td>\n",
       "      <td>73.333</td>\n",
       "      <td>A</td>\n",
       "      <td>10</td>\n",
       "    </tr>\n",
       "    <tr>\n",
       "      <th>10</th>\n",
       "      <td>11</td>\n",
       "      <td>2</td>\n",
       "      <td>SPH 742.2</td>\n",
       "      <td>Seminar</td>\n",
       "      <td>52.600</td>\n",
       "      <td>C</td>\n",
       "      <td>6</td>\n",
       "    </tr>\n",
       "  </tbody>\n",
       "</table>\n",
       "</div>"
      ],
      "text/plain": [
       "    S/N  COURSE UNIT COURSE CODE                                COURSE TITLE  \\\n",
       "0     1            3   SPH 708.1                               Human Ecology   \n",
       "1     2            2   SPH 703.1                      Health Laws and Ethics   \n",
       "2     3            2   SPH 701.1       History of Medicine and Public Health   \n",
       "3     4            2   SPH 734.2                        ICT In Public Health   \n",
       "4     5            4   SPH 723.1               Introduction to Biostatistics   \n",
       "5     6            4   SPH 725.1  Introduction to Principles of Epidemiology   \n",
       "6     7            4   SPH 712.1                       Public Health Methods   \n",
       "7     8            3   SPH 726.2                       Healthcare In Nigeria   \n",
       "8     9            2   SPH 723.2                  Fundamentals of Demography   \n",
       "9    10            2        SPH                                   Field Trip   \n",
       "10   11            2   SPH 742.2                                     Seminar   \n",
       "\n",
       "     SCORE GRADE  GPA  \n",
       "0   72.500     A   15  \n",
       "1   78.760     A   10  \n",
       "2   70.850     A   10  \n",
       "3   79.800     A   10  \n",
       "4   70.050     A   20  \n",
       "5   82.600     A   20  \n",
       "6   79.800     A   20  \n",
       "7   85.480     A   15  \n",
       "8   65.800     B    8  \n",
       "9   73.333     A   10  \n",
       "10  52.600     C    6  "
      ]
     },
     "execution_count": 50,
     "metadata": {},
     "output_type": "execute_result"
    }
   ],
   "source": [
    "#To confirm if the column \"GRADE VALUE\" has been dropped we print df\n",
    "\n",
    "df"
   ]
  },
  {
   "cell_type": "markdown",
   "id": "c38bde1b",
   "metadata": {},
   "source": [
    "## 10) len() method"
   ]
  },
  {
   "cell_type": "code",
   "execution_count": 27,
   "id": "c693ebfe",
   "metadata": {},
   "outputs": [
    {
     "data": {
      "text/plain": [
       "11"
      ]
     },
     "execution_count": 27,
     "metadata": {},
     "output_type": "execute_result"
    }
   ],
   "source": [
    "#To check the length of the dataframe\n",
    "\n",
    "len(df)"
   ]
  },
  {
   "cell_type": "markdown",
   "id": "0010f32b",
   "metadata": {},
   "source": [
    "## 11) loc[] method"
   ]
  },
  {
   "cell_type": "code",
   "execution_count": 48,
   "id": "8fb35f0a",
   "metadata": {},
   "outputs": [
    {
     "data": {
      "text/html": [
       "<div>\n",
       "<style scoped>\n",
       "    .dataframe tbody tr th:only-of-type {\n",
       "        vertical-align: middle;\n",
       "    }\n",
       "\n",
       "    .dataframe tbody tr th {\n",
       "        vertical-align: top;\n",
       "    }\n",
       "\n",
       "    .dataframe thead th {\n",
       "        text-align: right;\n",
       "    }\n",
       "</style>\n",
       "<table border=\"1\" class=\"dataframe\">\n",
       "  <thead>\n",
       "    <tr style=\"text-align: right;\">\n",
       "      <th></th>\n",
       "      <th>COURSE UNIT</th>\n",
       "      <th>COURSE TITLE</th>\n",
       "      <th>SCORE</th>\n",
       "      <th>GRADE</th>\n",
       "    </tr>\n",
       "  </thead>\n",
       "  <tbody>\n",
       "    <tr>\n",
       "      <th>2</th>\n",
       "      <td>2</td>\n",
       "      <td>History of Medicine and Public Health</td>\n",
       "      <td>70.85</td>\n",
       "      <td>A</td>\n",
       "    </tr>\n",
       "    <tr>\n",
       "      <th>4</th>\n",
       "      <td>4</td>\n",
       "      <td>Introduction to Biostatistics</td>\n",
       "      <td>70.05</td>\n",
       "      <td>A</td>\n",
       "    </tr>\n",
       "    <tr>\n",
       "      <th>6</th>\n",
       "      <td>4</td>\n",
       "      <td>Public Health Methods</td>\n",
       "      <td>79.80</td>\n",
       "      <td>A</td>\n",
       "    </tr>\n",
       "  </tbody>\n",
       "</table>\n",
       "</div>"
      ],
      "text/plain": [
       "   COURSE UNIT                           COURSE TITLE  SCORE GRADE\n",
       "2            2  History of Medicine and Public Health  70.85     A\n",
       "4            4          Introduction to Biostatistics  70.05     A\n",
       "6            4                  Public Health Methods  79.80     A"
      ]
     },
     "execution_count": 48,
     "metadata": {},
     "output_type": "execute_result"
    }
   ],
   "source": [
    "#It is similar to 'ilo[]' but here, the exact row index and column names we want is specified\n",
    "\n",
    "df.loc[[2, 4, 6], ['COURSE UNIT', 'COURSE TITLE', 'SCORE', 'GRADE']]"
   ]
  },
  {
   "cell_type": "markdown",
   "id": "f6fa2e55",
   "metadata": {},
   "source": [
    "## 12) df.insert() method"
   ]
  },
  {
   "cell_type": "code",
   "execution_count": 59,
   "id": "9465ecfa",
   "metadata": {},
   "outputs": [
    {
     "data": {
      "text/html": [
       "<div>\n",
       "<style scoped>\n",
       "    .dataframe tbody tr th:only-of-type {\n",
       "        vertical-align: middle;\n",
       "    }\n",
       "\n",
       "    .dataframe tbody tr th {\n",
       "        vertical-align: top;\n",
       "    }\n",
       "\n",
       "    .dataframe thead th {\n",
       "        text-align: right;\n",
       "    }\n",
       "</style>\n",
       "<table border=\"1\" class=\"dataframe\">\n",
       "  <thead>\n",
       "    <tr style=\"text-align: right;\">\n",
       "      <th></th>\n",
       "      <th>S/N</th>\n",
       "      <th>COURSE UNIT</th>\n",
       "      <th>COURSE CODE</th>\n",
       "      <th>COURSE TITLE</th>\n",
       "      <th>SCORE</th>\n",
       "      <th>GRADE</th>\n",
       "      <th>GPA</th>\n",
       "      <th>random_col</th>\n",
       "    </tr>\n",
       "  </thead>\n",
       "  <tbody>\n",
       "    <tr>\n",
       "      <th>0</th>\n",
       "      <td>1</td>\n",
       "      <td>3</td>\n",
       "      <td>SPH 708.1</td>\n",
       "      <td>Human Ecology</td>\n",
       "      <td>72.500</td>\n",
       "      <td>A</td>\n",
       "      <td>15</td>\n",
       "      <td>8</td>\n",
       "    </tr>\n",
       "    <tr>\n",
       "      <th>1</th>\n",
       "      <td>2</td>\n",
       "      <td>2</td>\n",
       "      <td>SPH 703.1</td>\n",
       "      <td>Health Laws and Ethics</td>\n",
       "      <td>78.760</td>\n",
       "      <td>A</td>\n",
       "      <td>10</td>\n",
       "      <td>18</td>\n",
       "    </tr>\n",
       "    <tr>\n",
       "      <th>2</th>\n",
       "      <td>3</td>\n",
       "      <td>2</td>\n",
       "      <td>SPH 701.1</td>\n",
       "      <td>History of Medicine and Public Health</td>\n",
       "      <td>70.850</td>\n",
       "      <td>A</td>\n",
       "      <td>10</td>\n",
       "      <td>7</td>\n",
       "    </tr>\n",
       "    <tr>\n",
       "      <th>3</th>\n",
       "      <td>4</td>\n",
       "      <td>2</td>\n",
       "      <td>SPH 734.2</td>\n",
       "      <td>ICT In Public Health</td>\n",
       "      <td>79.800</td>\n",
       "      <td>A</td>\n",
       "      <td>10</td>\n",
       "      <td>16</td>\n",
       "    </tr>\n",
       "    <tr>\n",
       "      <th>4</th>\n",
       "      <td>5</td>\n",
       "      <td>4</td>\n",
       "      <td>SPH 723.1</td>\n",
       "      <td>Introduction to Biostatistics</td>\n",
       "      <td>70.050</td>\n",
       "      <td>A</td>\n",
       "      <td>20</td>\n",
       "      <td>7</td>\n",
       "    </tr>\n",
       "    <tr>\n",
       "      <th>5</th>\n",
       "      <td>6</td>\n",
       "      <td>4</td>\n",
       "      <td>SPH 725.1</td>\n",
       "      <td>Introduction to Principles of Epidemiology</td>\n",
       "      <td>82.600</td>\n",
       "      <td>A</td>\n",
       "      <td>20</td>\n",
       "      <td>7</td>\n",
       "    </tr>\n",
       "    <tr>\n",
       "      <th>6</th>\n",
       "      <td>7</td>\n",
       "      <td>4</td>\n",
       "      <td>SPH 712.1</td>\n",
       "      <td>Public Health Methods</td>\n",
       "      <td>79.800</td>\n",
       "      <td>A</td>\n",
       "      <td>20</td>\n",
       "      <td>2</td>\n",
       "    </tr>\n",
       "    <tr>\n",
       "      <th>7</th>\n",
       "      <td>8</td>\n",
       "      <td>3</td>\n",
       "      <td>SPH 726.2</td>\n",
       "      <td>Healthcare In Nigeria</td>\n",
       "      <td>85.480</td>\n",
       "      <td>A</td>\n",
       "      <td>15</td>\n",
       "      <td>10</td>\n",
       "    </tr>\n",
       "    <tr>\n",
       "      <th>8</th>\n",
       "      <td>9</td>\n",
       "      <td>2</td>\n",
       "      <td>SPH 723.2</td>\n",
       "      <td>Fundamentals of Demography</td>\n",
       "      <td>65.800</td>\n",
       "      <td>B</td>\n",
       "      <td>8</td>\n",
       "      <td>18</td>\n",
       "    </tr>\n",
       "    <tr>\n",
       "      <th>9</th>\n",
       "      <td>10</td>\n",
       "      <td>2</td>\n",
       "      <td>SPH</td>\n",
       "      <td>Field Trip</td>\n",
       "      <td>73.333</td>\n",
       "      <td>A</td>\n",
       "      <td>10</td>\n",
       "      <td>0</td>\n",
       "    </tr>\n",
       "    <tr>\n",
       "      <th>10</th>\n",
       "      <td>11</td>\n",
       "      <td>2</td>\n",
       "      <td>SPH 742.2</td>\n",
       "      <td>Seminar</td>\n",
       "      <td>52.600</td>\n",
       "      <td>C</td>\n",
       "      <td>6</td>\n",
       "      <td>18</td>\n",
       "    </tr>\n",
       "  </tbody>\n",
       "</table>\n",
       "</div>"
      ],
      "text/plain": [
       "    S/N  COURSE UNIT COURSE CODE                                COURSE TITLE  \\\n",
       "0     1            3   SPH 708.1                               Human Ecology   \n",
       "1     2            2   SPH 703.1                      Health Laws and Ethics   \n",
       "2     3            2   SPH 701.1       History of Medicine and Public Health   \n",
       "3     4            2   SPH 734.2                        ICT In Public Health   \n",
       "4     5            4   SPH 723.1               Introduction to Biostatistics   \n",
       "5     6            4   SPH 725.1  Introduction to Principles of Epidemiology   \n",
       "6     7            4   SPH 712.1                       Public Health Methods   \n",
       "7     8            3   SPH 726.2                       Healthcare In Nigeria   \n",
       "8     9            2   SPH 723.2                  Fundamentals of Demography   \n",
       "9    10            2        SPH                                   Field Trip   \n",
       "10   11            2   SPH 742.2                                     Seminar   \n",
       "\n",
       "     SCORE GRADE  GPA  random_col  \n",
       "0   72.500     A   15           8  \n",
       "1   78.760     A   10          18  \n",
       "2   70.850     A   10           7  \n",
       "3   79.800     A   10          16  \n",
       "4   70.050     A   20           7  \n",
       "5   82.600     A   20           7  \n",
       "6   79.800     A   20           2  \n",
       "7   85.480     A   15          10  \n",
       "8   65.800     B    8          18  \n",
       "9   73.333     A   10           0  \n",
       "10  52.600     C    6          18  "
      ]
     },
     "execution_count": 59,
     "metadata": {},
     "output_type": "execute_result"
    }
   ],
   "source": [
    "#To insert random column in a specifies position. We will first create an array of random numbers that have the same length of our DataFrame\n",
    "#This array will be inserted as a column in the df at column 7 position\n",
    "\n",
    "random_col = np.random.randint(20, size = len(df))\n",
    "df.insert(7, 'random_col',random_col)\n",
    "df"
   ]
  },
  {
   "cell_type": "markdown",
   "id": "00643940",
   "metadata": {},
   "source": [
    "## 13) df[\"].cumsum () method"
   ]
  },
  {
   "cell_type": "code",
   "execution_count": 62,
   "id": "98b50f5b",
   "metadata": {},
   "outputs": [
    {
     "data": {
      "text/html": [
       "<div>\n",
       "<style scoped>\n",
       "    .dataframe tbody tr th:only-of-type {\n",
       "        vertical-align: middle;\n",
       "    }\n",
       "\n",
       "    .dataframe tbody tr th {\n",
       "        vertical-align: top;\n",
       "    }\n",
       "\n",
       "    .dataframe thead th {\n",
       "        text-align: right;\n",
       "    }\n",
       "</style>\n",
       "<table border=\"1\" class=\"dataframe\">\n",
       "  <thead>\n",
       "    <tr style=\"text-align: right;\">\n",
       "      <th></th>\n",
       "      <th>GPA</th>\n",
       "    </tr>\n",
       "  </thead>\n",
       "  <tbody>\n",
       "    <tr>\n",
       "      <th>0</th>\n",
       "      <td>15</td>\n",
       "    </tr>\n",
       "    <tr>\n",
       "      <th>1</th>\n",
       "      <td>25</td>\n",
       "    </tr>\n",
       "    <tr>\n",
       "      <th>2</th>\n",
       "      <td>35</td>\n",
       "    </tr>\n",
       "    <tr>\n",
       "      <th>3</th>\n",
       "      <td>45</td>\n",
       "    </tr>\n",
       "    <tr>\n",
       "      <th>4</th>\n",
       "      <td>65</td>\n",
       "    </tr>\n",
       "    <tr>\n",
       "      <th>5</th>\n",
       "      <td>85</td>\n",
       "    </tr>\n",
       "    <tr>\n",
       "      <th>6</th>\n",
       "      <td>105</td>\n",
       "    </tr>\n",
       "    <tr>\n",
       "      <th>7</th>\n",
       "      <td>120</td>\n",
       "    </tr>\n",
       "    <tr>\n",
       "      <th>8</th>\n",
       "      <td>128</td>\n",
       "    </tr>\n",
       "    <tr>\n",
       "      <th>9</th>\n",
       "      <td>138</td>\n",
       "    </tr>\n",
       "    <tr>\n",
       "      <th>10</th>\n",
       "      <td>144</td>\n",
       "    </tr>\n",
       "  </tbody>\n",
       "</table>\n",
       "</div>"
      ],
      "text/plain": [
       "    GPA\n",
       "0    15\n",
       "1    25\n",
       "2    35\n",
       "3    45\n",
       "4    65\n",
       "5    85\n",
       "6   105\n",
       "7   120\n",
       "8   128\n",
       "9   138\n",
       "10  144"
      ]
     },
     "execution_count": 62,
     "metadata": {},
     "output_type": "execute_result"
    }
   ],
   "source": [
    "#This method calculates the cumulative sum of a data in a column.\n",
    "\n",
    "df[['GPA']].cumsum()"
   ]
  },
  {
   "cell_type": "markdown",
   "id": "82394ba5",
   "metadata": {},
   "source": [
    "## 14) df.sample () method"
   ]
  },
  {
   "cell_type": "code",
   "execution_count": 63,
   "id": "f3feb89d",
   "metadata": {},
   "outputs": [
    {
     "data": {
      "text/html": [
       "<div>\n",
       "<style scoped>\n",
       "    .dataframe tbody tr th:only-of-type {\n",
       "        vertical-align: middle;\n",
       "    }\n",
       "\n",
       "    .dataframe tbody tr th {\n",
       "        vertical-align: top;\n",
       "    }\n",
       "\n",
       "    .dataframe thead th {\n",
       "        text-align: right;\n",
       "    }\n",
       "</style>\n",
       "<table border=\"1\" class=\"dataframe\">\n",
       "  <thead>\n",
       "    <tr style=\"text-align: right;\">\n",
       "      <th></th>\n",
       "      <th>S/N</th>\n",
       "      <th>COURSE UNIT</th>\n",
       "      <th>COURSE CODE</th>\n",
       "      <th>COURSE TITLE</th>\n",
       "      <th>SCORE</th>\n",
       "      <th>GRADE</th>\n",
       "      <th>GPA</th>\n",
       "      <th>random_col</th>\n",
       "    </tr>\n",
       "  </thead>\n",
       "  <tbody>\n",
       "    <tr>\n",
       "      <th>6</th>\n",
       "      <td>7</td>\n",
       "      <td>4</td>\n",
       "      <td>SPH 712.1</td>\n",
       "      <td>Public Health Methods</td>\n",
       "      <td>79.80</td>\n",
       "      <td>A</td>\n",
       "      <td>20</td>\n",
       "      <td>2</td>\n",
       "    </tr>\n",
       "    <tr>\n",
       "      <th>5</th>\n",
       "      <td>6</td>\n",
       "      <td>4</td>\n",
       "      <td>SPH 725.1</td>\n",
       "      <td>Introduction to Principles of Epidemiology</td>\n",
       "      <td>82.60</td>\n",
       "      <td>A</td>\n",
       "      <td>20</td>\n",
       "      <td>7</td>\n",
       "    </tr>\n",
       "    <tr>\n",
       "      <th>7</th>\n",
       "      <td>8</td>\n",
       "      <td>3</td>\n",
       "      <td>SPH 726.2</td>\n",
       "      <td>Healthcare In Nigeria</td>\n",
       "      <td>85.48</td>\n",
       "      <td>A</td>\n",
       "      <td>15</td>\n",
       "      <td>10</td>\n",
       "    </tr>\n",
       "    <tr>\n",
       "      <th>4</th>\n",
       "      <td>5</td>\n",
       "      <td>4</td>\n",
       "      <td>SPH 723.1</td>\n",
       "      <td>Introduction to Biostatistics</td>\n",
       "      <td>70.05</td>\n",
       "      <td>A</td>\n",
       "      <td>20</td>\n",
       "      <td>7</td>\n",
       "    </tr>\n",
       "    <tr>\n",
       "      <th>10</th>\n",
       "      <td>11</td>\n",
       "      <td>2</td>\n",
       "      <td>SPH 742.2</td>\n",
       "      <td>Seminar</td>\n",
       "      <td>52.60</td>\n",
       "      <td>C</td>\n",
       "      <td>6</td>\n",
       "      <td>18</td>\n",
       "    </tr>\n",
       "  </tbody>\n",
       "</table>\n",
       "</div>"
      ],
      "text/plain": [
       "    S/N  COURSE UNIT COURSE CODE                                COURSE TITLE  \\\n",
       "6     7            4   SPH 712.1                       Public Health Methods   \n",
       "5     6            4   SPH 725.1  Introduction to Principles of Epidemiology   \n",
       "7     8            3   SPH 726.2                       Healthcare In Nigeria   \n",
       "4     5            4   SPH 723.1               Introduction to Biostatistics   \n",
       "10   11            2   SPH 742.2                                     Seminar   \n",
       "\n",
       "    SCORE GRADE  GPA  random_col  \n",
       "6   79.80     A   20           2  \n",
       "5   82.60     A   20           7  \n",
       "7   85.48     A   15          10  \n",
       "4   70.05     A   20           7  \n",
       "10  52.60     C    6          18  "
      ]
     },
     "execution_count": 63,
     "metadata": {},
     "output_type": "execute_result"
    }
   ],
   "source": [
    "#When the size of the dataset is too big, a sample or fraction of the data can be taken for the analysis.\n",
    "\n",
    "#exampe 1\n",
    "\n",
    "df.sample(n = 5) "
   ]
  },
  {
   "cell_type": "code",
   "execution_count": 65,
   "id": "2529bf94",
   "metadata": {},
   "outputs": [
    {
     "data": {
      "text/html": [
       "<div>\n",
       "<style scoped>\n",
       "    .dataframe tbody tr th:only-of-type {\n",
       "        vertical-align: middle;\n",
       "    }\n",
       "\n",
       "    .dataframe tbody tr th {\n",
       "        vertical-align: top;\n",
       "    }\n",
       "\n",
       "    .dataframe thead th {\n",
       "        text-align: right;\n",
       "    }\n",
       "</style>\n",
       "<table border=\"1\" class=\"dataframe\">\n",
       "  <thead>\n",
       "    <tr style=\"text-align: right;\">\n",
       "      <th></th>\n",
       "      <th>S/N</th>\n",
       "      <th>COURSE UNIT</th>\n",
       "      <th>COURSE CODE</th>\n",
       "      <th>COURSE TITLE</th>\n",
       "      <th>SCORE</th>\n",
       "      <th>GRADE</th>\n",
       "      <th>GPA</th>\n",
       "      <th>random_col</th>\n",
       "    </tr>\n",
       "  </thead>\n",
       "  <tbody>\n",
       "    <tr>\n",
       "      <th>4</th>\n",
       "      <td>5</td>\n",
       "      <td>4</td>\n",
       "      <td>SPH 723.1</td>\n",
       "      <td>Introduction to Biostatistics</td>\n",
       "      <td>70.05</td>\n",
       "      <td>A</td>\n",
       "      <td>20</td>\n",
       "      <td>7</td>\n",
       "    </tr>\n",
       "    <tr>\n",
       "      <th>10</th>\n",
       "      <td>11</td>\n",
       "      <td>2</td>\n",
       "      <td>SPH 742.2</td>\n",
       "      <td>Seminar</td>\n",
       "      <td>52.60</td>\n",
       "      <td>C</td>\n",
       "      <td>6</td>\n",
       "      <td>18</td>\n",
       "    </tr>\n",
       "    <tr>\n",
       "      <th>5</th>\n",
       "      <td>6</td>\n",
       "      <td>4</td>\n",
       "      <td>SPH 725.1</td>\n",
       "      <td>Introduction to Principles of Epidemiology</td>\n",
       "      <td>82.60</td>\n",
       "      <td>A</td>\n",
       "      <td>20</td>\n",
       "      <td>7</td>\n",
       "    </tr>\n",
       "  </tbody>\n",
       "</table>\n",
       "</div>"
      ],
      "text/plain": [
       "    S/N  COURSE UNIT COURSE CODE                                COURSE TITLE  \\\n",
       "4     5            4   SPH 723.1               Introduction to Biostatistics   \n",
       "10   11            2   SPH 742.2                                     Seminar   \n",
       "5     6            4   SPH 725.1  Introduction to Principles of Epidemiology   \n",
       "\n",
       "    SCORE GRADE  GPA  random_col  \n",
       "4   70.05     A   20           7  \n",
       "10  52.60     C    6          18  \n",
       "5   82.60     A   20           7  "
      ]
     },
     "execution_count": 65,
     "metadata": {},
     "output_type": "execute_result"
    }
   ],
   "source": [
    "#example 2\n",
    "\n",
    "df.sample(frac = 0.30)"
   ]
  },
  {
   "cell_type": "markdown",
   "id": "ce5f0462",
   "metadata": {},
   "source": [
    "## 15)  df[‘’].where() method"
   ]
  },
  {
   "cell_type": "code",
   "execution_count": 71,
   "id": "05bcbf6e",
   "metadata": {},
   "outputs": [
    {
     "data": {
      "text/plain": [
       "0      8.0\n",
       "1      NaN\n",
       "2      7.0\n",
       "3      NaN\n",
       "4      7.0\n",
       "5      7.0\n",
       "6      2.0\n",
       "7     10.0\n",
       "8      NaN\n",
       "9      0.0\n",
       "10     NaN\n",
       "Name: random_col, dtype: float64"
      ]
     },
     "execution_count": 71,
     "metadata": {},
     "output_type": "execute_result"
    }
   ],
   "source": [
    "#This function query a dataset based on a boolean condition. The random_col created previously has the values ranging from 0 to 20.\n",
    "\n",
    "#example 1\n",
    "\n",
    "df['random_col'].where(df['random_col'] < 15)"
   ]
  },
  {
   "cell_type": "code",
   "execution_count": 72,
   "id": "4f66bd11",
   "metadata": {},
   "outputs": [
    {
     "data": {
      "text/plain": [
       "0      8\n",
       "1      0\n",
       "2      7\n",
       "3      0\n",
       "4      7\n",
       "5      7\n",
       "6      2\n",
       "7     10\n",
       "8      0\n",
       "9      0\n",
       "10     0\n",
       "Name: random_col, dtype: int32"
      ]
     },
     "execution_count": 72,
     "metadata": {},
     "output_type": "execute_result"
    }
   ],
   "source": [
    "#in place of NaN, we replace it with 0\n",
    "\n",
    "#example 2\n",
    "\n",
    "df['random_col'].where(df['random_col'] < 15, 0)"
   ]
  },
  {
   "cell_type": "markdown",
   "id": "92cd1bbc",
   "metadata": {},
   "source": [
    "## 16) df.memory_usage() method"
   ]
  },
  {
   "cell_type": "code",
   "execution_count": 73,
   "id": "672fbdd2",
   "metadata": {},
   "outputs": [
    {
     "data": {
      "text/plain": [
       "Index           128\n",
       "S/N              88\n",
       "COURSE UNIT      88\n",
       "COURSE CODE      88\n",
       "COURSE TITLE     88\n",
       "SCORE            88\n",
       "GRADE            88\n",
       "GPA              88\n",
       "random_col       44\n",
       "dtype: int64"
      ]
     },
     "execution_count": 73,
     "metadata": {},
     "output_type": "execute_result"
    }
   ],
   "source": [
    "# Memory usage of DataFrame columns.\n",
    "\n",
    "df.memory_usage()"
   ]
  },
  {
   "cell_type": "markdown",
   "id": "c4f2869c",
   "metadata": {},
   "source": [
    "## 17)  df[‘’].unique() method"
   ]
  },
  {
   "cell_type": "code",
   "execution_count": 78,
   "id": "b75d955f",
   "metadata": {},
   "outputs": [
    {
     "data": {
      "text/plain": [
       "array([72.5  , 78.76 , 70.85 , 79.8  , 70.05 , 82.6  , 85.48 , 65.8  ,\n",
       "       73.333, 52.6  ])"
      ]
     },
     "execution_count": 78,
     "metadata": {},
     "output_type": "execute_result"
    }
   ],
   "source": [
    "#This method is used to find out the unique values of a column. Preferrably a categorical column \n",
    "\n",
    "df.SCORE.unique()"
   ]
  },
  {
   "cell_type": "markdown",
   "id": "f394bdc2",
   "metadata": {},
   "source": [
    "## 18) df[‘’].nunique() method"
   ]
  },
  {
   "cell_type": "code",
   "execution_count": 79,
   "id": "8629dd2d",
   "metadata": {},
   "outputs": [
    {
     "data": {
      "text/plain": [
       "10"
      ]
     },
     "execution_count": 79,
     "metadata": {},
     "output_type": "execute_result"
    }
   ],
   "source": [
    "#It shows how many unique values in a column.\n",
    "\n",
    "df.SCORE.nunique()"
   ]
  },
  {
   "cell_type": "markdown",
   "id": "0b0c7b9e",
   "metadata": {},
   "source": [
    "## 19) df[‘’].rank() method"
   ]
  },
  {
   "cell_type": "code",
   "execution_count": 180,
   "id": "f9697298",
   "metadata": {},
   "outputs": [
    {
     "data": {
      "text/html": [
       "<div>\n",
       "<style scoped>\n",
       "    .dataframe tbody tr th:only-of-type {\n",
       "        vertical-align: middle;\n",
       "    }\n",
       "\n",
       "    .dataframe tbody tr th {\n",
       "        vertical-align: top;\n",
       "    }\n",
       "\n",
       "    .dataframe thead th {\n",
       "        text-align: right;\n",
       "    }\n",
       "</style>\n",
       "<table border=\"1\" class=\"dataframe\">\n",
       "  <thead>\n",
       "    <tr style=\"text-align: right;\">\n",
       "      <th></th>\n",
       "      <th>S/N</th>\n",
       "      <th>COURSE UNIT</th>\n",
       "      <th>COURSE CODE</th>\n",
       "      <th>COURSE TITLE</th>\n",
       "      <th>SCORE</th>\n",
       "      <th>GRADE</th>\n",
       "      <th>GPA</th>\n",
       "      <th>random_col</th>\n",
       "      <th>rank_col</th>\n",
       "    </tr>\n",
       "  </thead>\n",
       "  <tbody>\n",
       "    <tr>\n",
       "      <th>0</th>\n",
       "      <td>1</td>\n",
       "      <td>3</td>\n",
       "      <td>SPH 708.1</td>\n",
       "      <td>Human Ecology</td>\n",
       "      <td>72.500</td>\n",
       "      <td>A</td>\n",
       "      <td>15</td>\n",
       "      <td>8</td>\n",
       "      <td>5.0</td>\n",
       "    </tr>\n",
       "    <tr>\n",
       "      <th>1</th>\n",
       "      <td>2</td>\n",
       "      <td>2</td>\n",
       "      <td>SPH 703.1</td>\n",
       "      <td>Health Laws and Ethics</td>\n",
       "      <td>78.760</td>\n",
       "      <td>A</td>\n",
       "      <td>10</td>\n",
       "      <td>18</td>\n",
       "      <td>5.0</td>\n",
       "    </tr>\n",
       "    <tr>\n",
       "      <th>2</th>\n",
       "      <td>3</td>\n",
       "      <td>2</td>\n",
       "      <td>SPH 701.1</td>\n",
       "      <td>History of Medicine and Public Health</td>\n",
       "      <td>70.850</td>\n",
       "      <td>A</td>\n",
       "      <td>10</td>\n",
       "      <td>7</td>\n",
       "      <td>5.0</td>\n",
       "    </tr>\n",
       "    <tr>\n",
       "      <th>3</th>\n",
       "      <td>4</td>\n",
       "      <td>2</td>\n",
       "      <td>SPH 734.2</td>\n",
       "      <td>ICT In Public Health</td>\n",
       "      <td>79.800</td>\n",
       "      <td>A</td>\n",
       "      <td>10</td>\n",
       "      <td>16</td>\n",
       "      <td>5.0</td>\n",
       "    </tr>\n",
       "    <tr>\n",
       "      <th>4</th>\n",
       "      <td>5</td>\n",
       "      <td>4</td>\n",
       "      <td>SPH 723.1</td>\n",
       "      <td>Introduction to Biostatistics</td>\n",
       "      <td>70.050</td>\n",
       "      <td>A</td>\n",
       "      <td>20</td>\n",
       "      <td>7</td>\n",
       "      <td>5.0</td>\n",
       "    </tr>\n",
       "    <tr>\n",
       "      <th>5</th>\n",
       "      <td>6</td>\n",
       "      <td>4</td>\n",
       "      <td>SPH 725.1</td>\n",
       "      <td>Introduction to Principles of Epidemiology</td>\n",
       "      <td>82.600</td>\n",
       "      <td>A</td>\n",
       "      <td>20</td>\n",
       "      <td>7</td>\n",
       "      <td>5.0</td>\n",
       "    </tr>\n",
       "    <tr>\n",
       "      <th>6</th>\n",
       "      <td>7</td>\n",
       "      <td>4</td>\n",
       "      <td>SPH 712.1</td>\n",
       "      <td>Public Health Methods</td>\n",
       "      <td>79.800</td>\n",
       "      <td>A</td>\n",
       "      <td>20</td>\n",
       "      <td>2</td>\n",
       "      <td>5.0</td>\n",
       "    </tr>\n",
       "    <tr>\n",
       "      <th>7</th>\n",
       "      <td>8</td>\n",
       "      <td>3</td>\n",
       "      <td>SPH 726.2</td>\n",
       "      <td>Healthcare In Nigeria</td>\n",
       "      <td>85.480</td>\n",
       "      <td>A</td>\n",
       "      <td>15</td>\n",
       "      <td>10</td>\n",
       "      <td>5.0</td>\n",
       "    </tr>\n",
       "    <tr>\n",
       "      <th>8</th>\n",
       "      <td>9</td>\n",
       "      <td>2</td>\n",
       "      <td>SPH 723.2</td>\n",
       "      <td>Fundamentals of Demography</td>\n",
       "      <td>65.800</td>\n",
       "      <td>B</td>\n",
       "      <td>8</td>\n",
       "      <td>18</td>\n",
       "      <td>10.0</td>\n",
       "    </tr>\n",
       "    <tr>\n",
       "      <th>9</th>\n",
       "      <td>10</td>\n",
       "      <td>2</td>\n",
       "      <td>SPH</td>\n",
       "      <td>Field Trip</td>\n",
       "      <td>73.333</td>\n",
       "      <td>A</td>\n",
       "      <td>10</td>\n",
       "      <td>0</td>\n",
       "      <td>5.0</td>\n",
       "    </tr>\n",
       "    <tr>\n",
       "      <th>10</th>\n",
       "      <td>11</td>\n",
       "      <td>2</td>\n",
       "      <td>SPH 742.2</td>\n",
       "      <td>Seminar</td>\n",
       "      <td>52.600</td>\n",
       "      <td>C</td>\n",
       "      <td>6</td>\n",
       "      <td>18</td>\n",
       "      <td>11.0</td>\n",
       "    </tr>\n",
       "  </tbody>\n",
       "</table>\n",
       "</div>"
      ],
      "text/plain": [
       "    S/N  COURSE UNIT COURSE CODE                                COURSE TITLE  \\\n",
       "0     1            3   SPH 708.1                               Human Ecology   \n",
       "1     2            2   SPH 703.1                      Health Laws and Ethics   \n",
       "2     3            2   SPH 701.1       History of Medicine and Public Health   \n",
       "3     4            2   SPH 734.2                        ICT In Public Health   \n",
       "4     5            4   SPH 723.1               Introduction to Biostatistics   \n",
       "5     6            4   SPH 725.1  Introduction to Principles of Epidemiology   \n",
       "6     7            4   SPH 712.1                       Public Health Methods   \n",
       "7     8            3   SPH 726.2                       Healthcare In Nigeria   \n",
       "8     9            2   SPH 723.2                  Fundamentals of Demography   \n",
       "9    10            2        SPH                                   Field Trip   \n",
       "10   11            2   SPH 742.2                                     Seminar   \n",
       "\n",
       "     SCORE GRADE  GPA  random_col  rank_col  \n",
       "0   72.500     A   15           8       5.0  \n",
       "1   78.760     A   10          18       5.0  \n",
       "2   70.850     A   10           7       5.0  \n",
       "3   79.800     A   10          16       5.0  \n",
       "4   70.050     A   20           7       5.0  \n",
       "5   82.600     A   20           7       5.0  \n",
       "6   79.800     A   20           2       5.0  \n",
       "7   85.480     A   15          10       5.0  \n",
       "8   65.800     B    8          18      10.0  \n",
       "9   73.333     A   10           0       5.0  \n",
       "10  52.600     C    6          18      11.0  "
      ]
     },
     "execution_count": 180,
     "metadata": {},
     "output_type": "execute_result"
    }
   ],
   "source": [
    "#It provides the rank of a selected column.\n",
    "\n",
    "df['rank_col'] = df[\"GRADE\"].rank()\n",
    "df"
   ]
  },
  {
   "cell_type": "markdown",
   "id": "3bf09293",
   "metadata": {},
   "source": [
    "## 20) df.count() method"
   ]
  },
  {
   "cell_type": "code",
   "execution_count": 95,
   "id": "b5909484",
   "metadata": {},
   "outputs": [
    {
     "data": {
      "text/plain": [
       "S/N             11\n",
       "COURSE UNIT     11\n",
       "COURSE CODE     11\n",
       "COURSE TITLE    11\n",
       "SCORE           11\n",
       "GRADE           11\n",
       "GPA             11\n",
       "random_col      11\n",
       "rank_calc       11\n",
       "rank_col        11\n",
       "rank_cal        11\n",
       "dtype: int64"
      ]
     },
     "execution_count": 95,
     "metadata": {},
     "output_type": "execute_result"
    }
   ],
   "source": [
    "#It gives the number of data in the DataFrame in the specified direction\n",
    "\n",
    "df.count()"
   ]
  },
  {
   "cell_type": "markdown",
   "id": "1d63b882",
   "metadata": {},
   "source": [
    "## B. 20 Numpy in-buit methods with examples"
   ]
  },
  {
   "cell_type": "markdown",
   "id": "53944b19",
   "metadata": {},
   "source": [
    "## 1) array ()"
   ]
  },
  {
   "cell_type": "code",
   "execution_count": 129,
   "id": "00b6d133",
   "metadata": {},
   "outputs": [
    {
     "data": {
      "text/plain": [
       "array([ 2,  4,  6,  8, 10, 12, 14, 16, 18, 20, 22, 24])"
      ]
     },
     "execution_count": 129,
     "metadata": {},
     "output_type": "execute_result"
    }
   ],
   "source": [
    "#It is used to create one-dimensional or multidimensional arrays from scratch.\n",
    "\n",
    "see = np.array([2, 4, 6, 8, 10, 12, 14, 16, 18, 20, 22, 24])\n",
    "see"
   ]
  },
  {
   "cell_type": "markdown",
   "id": "66bd6c39",
   "metadata": {},
   "source": [
    "## 2) arange ()"
   ]
  },
  {
   "cell_type": "code",
   "execution_count": 113,
   "id": "5e60314b",
   "metadata": {},
   "outputs": [
    {
     "data": {
      "text/plain": [
       "array([4, 6, 8])"
      ]
     },
     "execution_count": 113,
     "metadata": {},
     "output_type": "execute_result"
    }
   ],
   "source": [
    "#Return evenly spaced integer values over a given interval with some step size.\n",
    "\n",
    "np.arange(4, 10, 2) #example 1"
   ]
  },
  {
   "cell_type": "code",
   "execution_count": 114,
   "id": "97dac577",
   "metadata": {},
   "outputs": [
    {
     "data": {
      "text/plain": [
       "array([0, 1, 2, 3, 4, 5, 6, 7, 8, 9])"
      ]
     },
     "execution_count": 114,
     "metadata": {},
     "output_type": "execute_result"
    }
   ],
   "source": [
    "np.arange(0,10) #example 2"
   ]
  },
  {
   "cell_type": "code",
   "execution_count": 115,
   "id": "6272572d",
   "metadata": {},
   "outputs": [
    {
     "data": {
      "text/plain": [
       "array([5])"
      ]
     },
     "execution_count": 115,
     "metadata": {},
     "output_type": "execute_result"
    }
   ],
   "source": [
    "np.arange(5, 10, 15) #example 3"
   ]
  },
  {
   "cell_type": "markdown",
   "id": "09fff92f",
   "metadata": {},
   "source": [
    "## 3) uniform samples()"
   ]
  },
  {
   "cell_type": "code",
   "execution_count": 118,
   "id": "7e784895",
   "metadata": {},
   "outputs": [
    {
     "data": {
      "text/plain": [
       "array([17.13639102, 11.15671141, 19.53614129, 19.80513253, 10.43959258])"
      ]
     },
     "execution_count": 118,
     "metadata": {},
     "output_type": "execute_result"
    }
   ],
   "source": [
    "#Creates a random sample from a uniform distribution between lower and higher limit values.\n",
    "\n",
    "np.random.uniform(10,20,size = 5)"
   ]
  },
  {
   "cell_type": "markdown",
   "id": "08b6bea7",
   "metadata": {},
   "source": [
    "## 4) reshape()"
   ]
  },
  {
   "cell_type": "code",
   "execution_count": 137,
   "id": "76abaf26",
   "metadata": {},
   "outputs": [
    {
     "data": {
      "text/plain": [
       "array([[ 2,  4],\n",
       "       [ 6,  8],\n",
       "       [10, 12],\n",
       "       [14, 16],\n",
       "       [18, 20],\n",
       "       [22, 24]])"
      ]
     },
     "execution_count": 137,
     "metadata": {},
     "output_type": "execute_result"
    }
   ],
   "source": [
    "#It shows an array having similar data with a new shape. \n",
    "\n",
    "see.reshape(6, 2)"
   ]
  },
  {
   "cell_type": "markdown",
   "id": "918b54ab",
   "metadata": {},
   "source": [
    "## 5) linespace ()"
   ]
  },
  {
   "cell_type": "code",
   "execution_count": 119,
   "id": "f0d62887",
   "metadata": {},
   "outputs": [
    {
     "data": {
      "text/plain": [
       "array([15.  , 23.75, 32.5 , 41.25, 50.  ])"
      ]
     },
     "execution_count": 119,
     "metadata": {},
     "output_type": "execute_result"
    }
   ],
   "source": [
    "#Shows an array with evenly spaced float numbers over a given interval.\n",
    "\n",
    "np.linspace(15,50,5)"
   ]
  },
  {
   "cell_type": "markdown",
   "id": "fbf06568",
   "metadata": {},
   "source": [
    "## 6) array_split()"
   ]
  },
  {
   "cell_type": "code",
   "execution_count": 141,
   "id": "881a2303",
   "metadata": {},
   "outputs": [
    {
     "data": {
      "text/plain": [
       "[array([2, 4, 6, 8]), array([10, 12, 14, 16]), array([18, 20, 22, 24])]"
      ]
     },
     "execution_count": 141,
     "metadata": {},
     "output_type": "execute_result"
    }
   ],
   "source": [
    "#It is used for splitting arrays, the array to split is passed and the number of splits.\n",
    "\n",
    "new_fig = np.array_split(see, 3)\n",
    "new_fig"
   ]
  },
  {
   "cell_type": "markdown",
   "id": "35311b54",
   "metadata": {},
   "source": [
    "## 7) repeat()"
   ]
  },
  {
   "cell_type": "code",
   "execution_count": 142,
   "id": "158785ed",
   "metadata": {},
   "outputs": [
    {
     "data": {
      "text/plain": [
       "array([5, 5, 5, 5, 5, 5, 5, 5])"
      ]
     },
     "execution_count": 142,
     "metadata": {},
     "output_type": "execute_result"
    }
   ],
   "source": [
    "# it repeats the numbers in an array.\n",
    "\n",
    "np.repeat(5,8)"
   ]
  },
  {
   "cell_type": "markdown",
   "id": "17b426a7",
   "metadata": {},
   "source": [
    "## 8) dtype ()"
   ]
  },
  {
   "cell_type": "code",
   "execution_count": 143,
   "id": "709ff9c8",
   "metadata": {},
   "outputs": [
    {
     "data": {
      "text/plain": [
       "dtype('int32')"
      ]
     },
     "execution_count": 143,
     "metadata": {},
     "output_type": "execute_result"
    }
   ],
   "source": [
    "#It returns the data type of an array.\n",
    "\n",
    "see.dtype"
   ]
  },
  {
   "cell_type": "markdown",
   "id": "fd1ce855",
   "metadata": {},
   "source": [
    "## 9) array_sort()"
   ]
  },
  {
   "cell_type": "code",
   "execution_count": 144,
   "id": "233ec09a",
   "metadata": {},
   "outputs": [
    {
     "data": {
      "text/plain": [
       "array([ 2,  4,  6,  8, 10, 12, 14, 16, 18, 20, 22, 24])"
      ]
     },
     "execution_count": 144,
     "metadata": {},
     "output_type": "execute_result"
    }
   ],
   "source": [
    "#It sort a given array.\n",
    "\n",
    "np.sort(see)"
   ]
  },
  {
   "cell_type": "markdown",
   "id": "9b9c3f77",
   "metadata": {},
   "source": [
    "## 10) unique ()"
   ]
  },
  {
   "cell_type": "code",
   "execution_count": 147,
   "id": "21c2954c",
   "metadata": {},
   "outputs": [
    {
     "data": {
      "text/plain": [
       "(array([ 2,  4,  6,  8, 10, 12, 14, 16, 18, 20, 22, 24]),\n",
       " array([1, 1, 1, 1, 1, 1, 1, 1, 1, 1, 1, 1], dtype=int64))"
      ]
     },
     "execution_count": 147,
     "metadata": {},
     "output_type": "execute_result"
    }
   ],
   "source": [
    "np.unique(see, return_counts = True)"
   ]
  },
  {
   "cell_type": "markdown",
   "id": "c555d08b",
   "metadata": {},
   "source": [
    "## 11) expand dimensions ()"
   ]
  },
  {
   "cell_type": "code",
   "execution_count": 153,
   "id": "b7436994",
   "metadata": {},
   "outputs": [
    {
     "data": {
      "text/plain": [
       "array([[ 2],\n",
       "       [ 4],\n",
       "       [ 6],\n",
       "       [ 8],\n",
       "       [10],\n",
       "       [12],\n",
       "       [14],\n",
       "       [16],\n",
       "       [18],\n",
       "       [20],\n",
       "       [22],\n",
       "       [24]])"
      ]
     },
     "execution_count": 153,
     "metadata": {},
     "output_type": "execute_result"
    }
   ],
   "source": [
    "#It is used to expand the dimensions of an array.\n",
    "\n",
    "np.expand_dims(see, axis = 1)"
   ]
  },
  {
   "cell_type": "markdown",
   "id": "ece3c19b",
   "metadata": {},
   "source": [
    "## 12) Count Non-Zero () "
   ]
  },
  {
   "cell_type": "code",
   "execution_count": 154,
   "id": "9de826e3",
   "metadata": {},
   "outputs": [
    {
     "data": {
      "text/plain": [
       "12"
      ]
     },
     "execution_count": 154,
     "metadata": {},
     "output_type": "execute_result"
    }
   ],
   "source": [
    "np.count_nonzero(see)"
   ]
  },
  {
   "cell_type": "markdown",
   "id": "4c641bdd",
   "metadata": {},
   "source": [
    "## 13) where ()"
   ]
  },
  {
   "cell_type": "code",
   "execution_count": 164,
   "id": "143082eb",
   "metadata": {},
   "outputs": [
    {
     "name": "stdout",
     "output_type": "stream",
     "text": [
      "(array([5], dtype=int64),)\n"
     ]
    }
   ],
   "source": [
    "#It shows an array for a certain value, and return the indexes that get a match.\n",
    "\n",
    "z = np.where(see == 12)\n",
    "print(z)"
   ]
  },
  {
   "cell_type": "markdown",
   "id": "2ce9dee8",
   "metadata": {},
   "source": [
    "## 14) concatenate ()"
   ]
  },
  {
   "cell_type": "code",
   "execution_count": 165,
   "id": "420e9455",
   "metadata": {},
   "outputs": [
    {
     "name": "stdout",
     "output_type": "stream",
     "text": [
      "[1 2 3 4 5 6 7 8]\n"
     ]
    }
   ],
   "source": [
    "#It joins arrays together\n",
    "\n",
    "x = np.array ([1, 2, 3, 4])\n",
    "x2 = np.array ([5, 6, 7, 8])\n",
    "a = np.concatenate((x, x2))\n",
    "print (a)"
   ]
  },
  {
   "cell_type": "markdown",
   "id": "9fb3ca78",
   "metadata": {},
   "source": [
    "## 15) round ()"
   ]
  },
  {
   "cell_type": "code",
   "execution_count": 166,
   "id": "7331a6f4",
   "metadata": {},
   "outputs": [
    {
     "name": "stdout",
     "output_type": "stream",
     "text": [
      "[[0.56955075 0.80804238 0.01748024 0.5983049  0.23429981 0.22713251]\n",
      " [0.68650655 0.16083911 0.13459403 0.28481334 0.00200157 0.19113417]]\n"
     ]
    }
   ],
   "source": [
    "#It round float values to a specified number of decimal points.\n",
    "\n",
    "b = np.random.random(size=(2,6))\n",
    "print(b)"
   ]
  },
  {
   "cell_type": "markdown",
   "id": "98e288fb",
   "metadata": {},
   "source": [
    "## 16) put ()"
   ]
  },
  {
   "cell_type": "code",
   "execution_count": 188,
   "id": "1733ec55",
   "metadata": {},
   "outputs": [
    {
     "name": "stdout",
     "output_type": "stream",
     "text": [
      "[ 2  6 15 20 10 12 14 16  7 20 22 24]\n"
     ]
    }
   ],
   "source": [
    "#It replaces given elements of an array with values\n",
    "\n",
    "arr = np.put(see, [2,3], [15,20])\n",
    "print(see)"
   ]
  },
  {
   "cell_type": "markdown",
   "id": "cb43a373",
   "metadata": {},
   "source": [
    "## 17) horizontal stacking hstack()"
   ]
  },
  {
   "cell_type": "code",
   "execution_count": 175,
   "id": "e6422287",
   "metadata": {},
   "outputs": [
    {
     "data": {
      "text/plain": [
       "array([1, 2, 3, 4, 5, 6, 7, 8])"
      ]
     },
     "execution_count": 175,
     "metadata": {},
     "output_type": "execute_result"
    }
   ],
   "source": [
    "#It stack appends one array at the end of another\n",
    "\n",
    "x = np.array ([1, 2, 3, 4])\n",
    "x2 = np.array ([5, 6, 7, 8])\n",
    "\n",
    "np.hstack((x,x2))"
   ]
  },
  {
   "cell_type": "markdown",
   "id": "7f6d804a",
   "metadata": {},
   "source": [
    "## 18) vertical stacking vstack()"
   ]
  },
  {
   "cell_type": "code",
   "execution_count": 176,
   "id": "a4dd6a12",
   "metadata": {},
   "outputs": [
    {
     "data": {
      "text/plain": [
       "array([[1, 2, 3, 4],\n",
       "       [5, 6, 7, 8]])"
      ]
     },
     "execution_count": 176,
     "metadata": {},
     "output_type": "execute_result"
    }
   ],
   "source": [
    "#It stack one array on top of another\n",
    "\n",
    "np.vstack((x,x2))"
   ]
  },
  {
   "cell_type": "markdown",
   "id": "8f43262a",
   "metadata": {},
   "source": [
    "## 19) equal()"
   ]
  },
  {
   "cell_type": "code",
   "execution_count": 177,
   "id": "98378d1f",
   "metadata": {},
   "outputs": [
    {
     "data": {
      "text/plain": [
       "array([False, False, False, False])"
      ]
     },
     "execution_count": 177,
     "metadata": {},
     "output_type": "execute_result"
    }
   ],
   "source": [
    "#It compares elements of arrays and if elements matched returns True, if not returns False\n",
    "np.equal(x,x2)"
   ]
  },
  {
   "cell_type": "markdown",
   "id": "4f9b8b54",
   "metadata": {},
   "source": [
    "## 20) tile()"
   ]
  },
  {
   "cell_type": "code",
   "execution_count": 178,
   "id": "6e4b5cc8",
   "metadata": {},
   "outputs": [
    {
     "data": {
      "text/plain": [
       "array(['Adanna', 'Adanna', 'Adanna', 'Adanna', 'Adanna', 'Adanna'],\n",
       "      dtype='<U6')"
      ]
     },
     "execution_count": 178,
     "metadata": {},
     "output_type": "execute_result"
    }
   ],
   "source": [
    "#It repeats an array the number of times given by reps\n",
    "\n",
    "np.tile('Adanna', 6)"
   ]
  },
  {
   "cell_type": "code",
   "execution_count": null,
   "id": "e9f9509c",
   "metadata": {},
   "outputs": [],
   "source": []
  }
 ],
 "metadata": {
  "kernelspec": {
   "display_name": "Python 3 (ipykernel)",
   "language": "python",
   "name": "python3"
  },
  "language_info": {
   "codemirror_mode": {
    "name": "ipython",
    "version": 3
   },
   "file_extension": ".py",
   "mimetype": "text/x-python",
   "name": "python",
   "nbconvert_exporter": "python",
   "pygments_lexer": "ipython3",
   "version": "3.9.12"
  }
 },
 "nbformat": 4,
 "nbformat_minor": 5
}
